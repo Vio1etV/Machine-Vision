{
 "cells": [
  {
   "cell_type": "code",
   "execution_count": 1,
   "id": "6bf4bbcb",
   "metadata": {},
   "outputs": [],
   "source": [
    "import cv2\n",
    "import glob\n",
    "import os"
   ]
  },
  {
   "cell_type": "code",
   "execution_count": 12,
   "id": "d6811b02",
   "metadata": {},
   "outputs": [],
   "source": [
    "img_path = r'C:\\Users\\MSI-PC\\Desktop\\Level 6 curriculum\\Corsework\\Machine Vision\\Coursework\\DR Datasets\\DRD_Split\\test\\diabetic'\n",
    "dest_path = r'C:\\Users\\MSI-PC\\Desktop\\Level 6 curriculum\\Corsework\\Machine Vision\\Final Codes\\Final Test\\6. GrayScale Images\\DR_GrayScale\\test\\diabetic'"
   ]
  },
  {
   "cell_type": "code",
   "execution_count": 13,
   "id": "96bb988a",
   "metadata": {},
   "outputs": [
    {
     "name": "stdout",
     "output_type": "stream",
     "text": [
      "Operation not executed OpenCV(4.8.1) D:\\a\\opencv-python\\opencv-python\\opencv\\modules\\imgproc\\src\\color.cpp:182: error: (-215:Assertion failed) !_src.empty() in function 'cv::cvtColor'\n",
      "\n"
     ]
    }
   ],
   "source": [
    "i = 1\n",
    "for img in glob.glob(img_path + '/*.*'):\n",
    "    try:\n",
    "        image = cv2.imread(img)\n",
    "        grayscale = cv2.cvtColor(image, cv2.COLOR_BGR2GRAY)\n",
    "        os.chdir(dest_path)\n",
    "        filename = 'gray_scale_' + str(i) + '.png'\n",
    "        cv2.imwrite(filename, grayscale)\n",
    "        i += 1\n",
    "    except Exception as e:\n",
    "        print('Operation not executed', e)"
   ]
  },
  {
   "cell_type": "code",
   "execution_count": null,
   "id": "9509841d",
   "metadata": {},
   "outputs": [],
   "source": []
  }
 ],
 "metadata": {
  "kernelspec": {
   "display_name": "Python 3 (ipykernel)",
   "language": "python",
   "name": "python3"
  },
  "language_info": {
   "codemirror_mode": {
    "name": "ipython",
    "version": 3
   },
   "file_extension": ".py",
   "mimetype": "text/x-python",
   "name": "python",
   "nbconvert_exporter": "python",
   "pygments_lexer": "ipython3",
   "version": "3.10.9"
  }
 },
 "nbformat": 4,
 "nbformat_minor": 5
}
