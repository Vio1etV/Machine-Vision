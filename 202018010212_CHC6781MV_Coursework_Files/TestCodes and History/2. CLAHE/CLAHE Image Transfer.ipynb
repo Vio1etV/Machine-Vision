{
 "cells": [
  {
   "cell_type": "code",
   "execution_count": 1,
   "id": "8e3b94a0",
   "metadata": {},
   "outputs": [],
   "source": [
    "import cv2\n",
    "import os\n",
    "import glob"
   ]
  },
  {
   "cell_type": "code",
   "execution_count": 10,
   "id": "f20b2406",
   "metadata": {},
   "outputs": [],
   "source": [
    "img_path = r'C:\\Users\\MSI-PC\\Desktop\\Level 6 curriculum\\Corsework\\Machine Vision\\Coursework\\DR Datasets\\DRD_Split\\test\\diabetic'\n",
    "\n",
    "dest_path = r'C:\\Users\\MSI-PC\\Desktop\\Level 6 curriculum\\Corsework\\Machine Vision\\Coursework\\Codes\\Binary Classification\\BClassificationofDr\\GOOD Test\\Final Test\\3. CLAHE\\DR_CLAHE\\test\\diabetic'"
   ]
  },
  {
   "cell_type": "code",
   "execution_count": 11,
   "id": "3cab5473",
   "metadata": {},
   "outputs": [],
   "source": [
    "i = 1\n",
    "for img in glob.glob(img_path + '/*.*'):\n",
    "    try:\n",
    "        image = cv2.imread(img)\n",
    "        gray = cv2.cvtColor(image, cv2.COLOR_BGR2GRAY)\n",
    "        clahe = cv2.createCLAHE(9, (10, 10))\n",
    "        new_clahe = clahe.apply(gray)\n",
    "        os.chdir(dest_path)\n",
    "        filename = 'new file_' + str(i) + '.png'\n",
    "        cv2.imwrite(filename, new_clahe)\n",
    "        i += 1\n",
    "    except Exception as e:\n",
    "        print('Operation not executed:', e)"
   ]
  },
  {
   "cell_type": "code",
   "execution_count": null,
   "id": "23adf045",
   "metadata": {},
   "outputs": [],
   "source": []
  },
  {
   "cell_type": "code",
   "execution_count": null,
   "id": "eb696b73",
   "metadata": {},
   "outputs": [],
   "source": []
  },
  {
   "cell_type": "code",
   "execution_count": null,
   "id": "653960b3",
   "metadata": {},
   "outputs": [],
   "source": []
  },
  {
   "cell_type": "code",
   "execution_count": null,
   "id": "8a92ceaf",
   "metadata": {},
   "outputs": [],
   "source": []
  }
 ],
 "metadata": {
  "kernelspec": {
   "display_name": "Python 3 (ipykernel)",
   "language": "python",
   "name": "python3"
  },
  "language_info": {
   "codemirror_mode": {
    "name": "ipython",
    "version": 3
   },
   "file_extension": ".py",
   "mimetype": "text/x-python",
   "name": "python",
   "nbconvert_exporter": "python",
   "pygments_lexer": "ipython3",
   "version": "3.10.9"
  }
 },
 "nbformat": 4,
 "nbformat_minor": 5
}
